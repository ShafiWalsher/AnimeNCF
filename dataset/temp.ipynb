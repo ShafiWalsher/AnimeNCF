{
 "cells": [
  {
   "cell_type": "code",
   "execution_count": null,
   "metadata": {},
   "outputs": [],
   "source": [
    "import pandas as pd \n",
    "\n",
    "anime_df = pd.read_csv('animes.csv')\n",
    "anime_df = anime_df.rename(columns={\"itemID\": \"animeId\"})\n",
    "\n",
    "anime_df.to_csv('animes_mod.csv', index=False)"
   ]
  },
  {
   "cell_type": "code",
   "execution_count": 1,
   "metadata": {},
   "outputs": [
    {
     "name": "stdout",
     "output_type": "stream",
     "text": [
      "(192112, 4)\n",
      "(42556, 4)\n",
      "userId         int64\n",
      "animeId        int64\n",
      "ratings      float64\n",
      "timestamp     object\n",
      "dtype: object\n"
     ]
    }
   ],
   "source": [
    "import pandas as pd \n",
    "import numpy as np\n",
    "\n",
    "reviews_df = pd.read_csv('reviews.csv')\n",
    "reviews_df = reviews_df.rename(columns={\"itemID\": \"animeId\", \"userID\": \"userId\", \"rating\" : \"ratings\"})\n",
    "reviews_df = reviews_df.reindex(columns=['userId', 'animeId', 'ratings', 'timestamp'])\n",
    "print(reviews_df.shape)\n",
    "# Group the data by animeId and apply the sample method to select a random subset of 5 to 10 reviews for each animeId\n",
    "df = reviews_df.groupby('animeId').apply(lambda x: x.sample(n=min(len(x), 10), random_state=42)).reset_index(drop=True)\n",
    "# Check the shape and data types of the resulting dataframe\n",
    "print(df.shape)\n",
    "print(df.dtypes)\n",
    "\n",
    "df.to_csv('ratings_reduced.csv', index=False)"
   ]
  },
  {
   "cell_type": "code",
   "execution_count": 3,
   "metadata": {},
   "outputs": [],
   "source": [
    "import pandas as pd \n",
    "import numpy as np\n",
    "\n",
    "reviews_df = pd.read_csv('reviews.csv')\n",
    "reviews_df = reviews_df.rename(columns={\"itemID\": \"animeId\", \"userID\": \"userId\", \"rating\" : \"ratings\"})\n",
    "reviews_df = reviews_df.reindex(columns=['userId', 'animeId', 'ratings', 'timestamp'])\n",
    "\n",
    "counts = reviews_df.groupby('animeId')['userId'].count()\n",
    "\n",
    "# filter out groups that have less than 5 to 10 reviews\n",
    "filtered_counts = counts[counts.between(5, 10)]\n",
    "\n",
    "# filter the original dataframe to include only rows with animeIds in filtered_counts\n",
    "df_filtered = reviews_df[reviews_df['animeId'].isin(filtered_counts.index)]\n",
    "\n",
    "df_filtered.to_csv('ratings_reduced.csv', index=False)"
   ]
  },
  {
   "cell_type": "code",
   "execution_count": 10,
   "metadata": {},
   "outputs": [
    {
     "data": {
      "text/html": [
       "<div>\n",
       "<style scoped>\n",
       "    .dataframe tbody tr th:only-of-type {\n",
       "        vertical-align: middle;\n",
       "    }\n",
       "\n",
       "    .dataframe tbody tr th {\n",
       "        vertical-align: top;\n",
       "    }\n",
       "\n",
       "    .dataframe thead th {\n",
       "        text-align: right;\n",
       "    }\n",
       "</style>\n",
       "<table border=\"1\" class=\"dataframe\">\n",
       "  <thead>\n",
       "    <tr style=\"text-align: right;\">\n",
       "      <th></th>\n",
       "      <th>0</th>\n",
       "      <th>1</th>\n",
       "      <th>2</th>\n",
       "      <th>3</th>\n",
       "    </tr>\n",
       "  </thead>\n",
       "  <tbody>\n",
       "    <tr>\n",
       "      <th>0</th>\n",
       "      <td>165987</td>\n",
       "      <td>1</td>\n",
       "      <td>8.0</td>\n",
       "      <td>Nov 18, 2008 T 09:38 AM</td>\n",
       "    </tr>\n",
       "    <tr>\n",
       "      <th>1</th>\n",
       "      <td>279637</td>\n",
       "      <td>1</td>\n",
       "      <td>7.0</td>\n",
       "      <td>Mar 02, 2015 T 04:49 AM</td>\n",
       "    </tr>\n",
       "    <tr>\n",
       "      <th>2</th>\n",
       "      <td>303048</td>\n",
       "      <td>1</td>\n",
       "      <td>7.0</td>\n",
       "      <td>Dec 23, 2021 T 12:19 PM</td>\n",
       "    </tr>\n",
       "    <tr>\n",
       "      <th>3</th>\n",
       "      <td>269444</td>\n",
       "      <td>1</td>\n",
       "      <td>8.0</td>\n",
       "      <td>Sep 14, 2007 T 07:04 AM</td>\n",
       "    </tr>\n",
       "    <tr>\n",
       "      <th>4</th>\n",
       "      <td>12038</td>\n",
       "      <td>1</td>\n",
       "      <td>8.0</td>\n",
       "      <td>Aug 11, 2003 T 01:51 AM</td>\n",
       "    </tr>\n",
       "  </tbody>\n",
       "</table>\n",
       "</div>"
      ],
      "text/plain": [
       "        0  1    2                        3\n",
       "0  165987  1  8.0  Nov 18, 2008 T 09:38 AM\n",
       "1  279637  1  7.0  Mar 02, 2015 T 04:49 AM\n",
       "2  303048  1  7.0  Dec 23, 2021 T 12:19 PM\n",
       "3  269444  1  8.0  Sep 14, 2007 T 07:04 AM\n",
       "4   12038  1  8.0  Aug 11, 2003 T 01:51 AM"
      ]
     },
     "execution_count": 10,
     "metadata": {},
     "output_type": "execute_result"
    }
   ],
   "source": [
    "import pandas as pd \n",
    "df = pd.read_csv('ratings_reduced.csv', skiprows=1, header=None, engine='python', sep=',')\n",
    "\n",
    "df.head()"
   ]
  }
 ],
 "metadata": {
  "kernelspec": {
   "display_name": "base",
   "language": "python",
   "name": "python3"
  },
  "language_info": {
   "codemirror_mode": {
    "name": "ipython",
    "version": 3
   },
   "file_extension": ".py",
   "mimetype": "text/x-python",
   "name": "python",
   "nbconvert_exporter": "python",
   "pygments_lexer": "ipython3",
   "version": "3.9.13"
  },
  "orig_nbformat": 4
 },
 "nbformat": 4,
 "nbformat_minor": 2
}
